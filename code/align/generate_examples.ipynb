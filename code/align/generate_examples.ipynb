{
 "cells": [
  {
   "cell_type": "code",
   "execution_count": null,
   "metadata": {},
   "outputs": [],
   "source": [
    "import json\n",
    "from joblib import Parallel, delayed\n",
    "from tqdm_joblib import tqdm_joblib\n",
    "import time\n",
    "from tqdm.auto import tqdm"
   ]
  },
  {
   "cell_type": "code",
   "execution_count": 2,
   "metadata": {},
   "outputs": [],
   "source": [
    "from retrying import retry\n",
    "import openai\n",
    "\n",
    "@retry(stop_max_attempt_number=5, wait_exponential_multiplier=1000, wait_exponential_max=10000)\n",
    "def generate(prompt, history=[]):\n",
    "\n",
    "    client = openai.OpenAI(api_key=\"sk-xxx\", base_url=\"xxx\")\n",
    "    completion = client.chat.completions.create(\n",
    "        model=\"xxx\",\n",
    "        messages = [{\"role\": \"user\", \"content\": prompt}],\n",
    "        temperature = 0.\n",
    "    )\n",
    "    return completion.choices[0].message.content"
   ]
  },
  {
   "cell_type": "code",
   "execution_count": 3,
   "metadata": {},
   "outputs": [],
   "source": [
    "with open(\"../../data/align/Align_Minos.json\",\"r\",encoding='utf-8-sig') as f:\n",
    "    L = json.load(f)"
   ]
  },
  {
   "cell_type": "code",
   "execution_count": 4,
   "metadata": {},
   "outputs": [],
   "source": [
    "input_data = []\n",
    "for i in L:\n",
    "    tmp = {}\n",
    "    tmp['id'] = i['id']\n",
    "    tmp['question'] = i['question']\n",
    "    tmp['answer'] = i['answer']\n",
    "    tmp['response'] = i['response']\n",
    "    tmp['rank'] = i['rank']\n",
    "    input_data.append(tmp)"
   ]
  },
  {
   "cell_type": "code",
   "execution_count": 5,
   "metadata": {},
   "outputs": [],
   "source": [
    "prompt = '''请根据输入的开放式问题和参考答案，综合考虑答案的事实正确性、逻辑性、简洁性和清晰度，并结合你的思考，生成五个层次的答案，分别是优秀、良好、中等、较差、极差。\n",
    "\n",
    "其中：*事实正确性*：分析回答提供的信息是否准确，并基于可信的事实和数据。*逻辑性*：分析回答是否逻辑清晰，推理合理，连贯一致。*简洁性*：分析回答是否简明扼要，避免冗长和不必要的细节。*清晰度*：分析回答是否表达清晰、易懂，语言是否简洁明了。\n",
    "\n",
    "请遵循以下的 JSON 格式输出结果：\n",
    "{\n",
    "    \"优秀\":xxxx,\n",
    "    \"优秀\":xxxx,\n",
    "    \"中等\":xxxx,\n",
    "    \"较差\":xxxx,\n",
    "    \"极差\":xxxx,\n",
    "}\n",
    "\n",
    "问题：{question}\n",
    "参考答案：{ref}\n",
    "\n",
    "输出生成的回答：\n",
    "'''"
   ]
  },
  {
   "cell_type": "code",
   "execution_count": 6,
   "metadata": {},
   "outputs": [],
   "source": [
    "import re\n",
    "\n",
    "def format_check(input):\n",
    "    if isinstance(input,dict) and set(list(input)) == set(['优秀','良好','中等','较差','极差']):\n",
    "        return True\n",
    "    else:\n",
    "        return False\n",
    "\n",
    "# 定义一个函数，接受一个 markdown 字符串作为参数\n",
    "def find_dicts(markdown):\n",
    "    # 定义一个空列表，用于存储找到的 dict\n",
    "    dicts = []\n",
    "    \n",
    "    if markdown == None:\n",
    "        return dicts\n",
    "\n",
    "    # 定义一个正则表达式，匹配 dict 的格式\n",
    "    pattern = r\"\\{[^{}]*\\}\"\n",
    "    # 使用 re.findall 方法，找出 markdown 字符串中所有匹配的子串\n",
    "    matches = re.findall(pattern, markdown)\n",
    "    # 遍历每个匹配的子串\n",
    "    for match in matches:\n",
    "        # 尝试将子串转换为 dict 类型，如果成功则添加到列表中\n",
    "        try:\n",
    "            d = eval(match)\n",
    "            if isinstance(d, dict):\n",
    "                dicts.append(d)\n",
    "        except:\n",
    "            # 如果转换失败，忽略该子串\n",
    "            pass\n",
    "    # 返回找到的 dict 列表\n",
    "    return dicts"
   ]
  },
  {
   "cell_type": "code",
   "execution_count": 7,
   "metadata": {},
   "outputs": [],
   "source": [
    "import traceback\n",
    "import os\n",
    "import json\n",
    "\n",
    "import traceback\n",
    "def deal(item,file_path):\n",
    "    max_try_retry = 10\n",
    "    try_num = 0\n",
    "    content = prompt.replace('{question}',item['question']).replace('{ref}',item['answer'])\n",
    "    for _ in range(max_try_retry):\n",
    "        try:\n",
    "            response = generate(content)\n",
    "            try:\n",
    "                tmps = json.loads(response)\n",
    "                # print('yresss')\n",
    "            except:\n",
    "                tmps = find_dicts(response)[0]\n",
    "            \n",
    "            if format_check(tmps):\n",
    "                item['example'] = tmps\n",
    "                with open(file_path, \"a+\", encoding=\"utf8\") as f:\n",
    "                    f.write(json.dumps(item, ensure_ascii=False) + \"\\n\")\n",
    "                    f.flush()\n",
    "                break\n",
    "\n",
    "        except Exception as e:\n",
    "            str_e = str(e)\n",
    "            if try_num== max_try_retry:\n",
    "                break\n",
    "\n",
    "            if 'InvalidRequestError' in str_e:\n",
    "                if 'maximum context' in str_e:\n",
    "                    break\n",
    "                try_num += 1\n",
    "                continue\n",
    "            else:\n",
    "                traceback.print_exc()\n"
   ]
  },
  {
   "cell_type": "code",
   "execution_count": null,
   "metadata": {},
   "outputs": [],
   "source": [
    "file_path = \"../../data/align/non_fact/examples.jsonl\"\n",
    "\n",
    "if not os.path.exists(file_path):\n",
    "    with open(file_path, 'w') as f:\n",
    "        pass\n",
    "\n",
    "with open(file_path,'r',encoding='utf-8') as f:\n",
    "    L = f.readlines()\n",
    "finish_id = [json.loads(i)['id'] for i in L]\n",
    "\n",
    "input_list = [i for i in input_data if i['id'] not in finish_id]\n",
    "\n",
    "from tqdm.contrib import tzip\n",
    "from joblib import Parallel, delayed\n",
    "from tqdm_joblib import tqdm_joblib\n",
    "\n",
    "num_worker = 32\n",
    "\n",
    "with tqdm_joblib(desc=\"My calculation\", total=len(input_list)) as progress_bar:\n",
    "    Parallel(n_jobs=num_worker,prefer=\"threads\")([delayed(deal)(x,file_path=file_path) for x in input_list])"
   ]
  }
 ],
 "metadata": {
  "kernelspec": {
   "display_name": "lmeval",
   "language": "python",
   "name": "python3"
  },
  "language_info": {
   "codemirror_mode": {
    "name": "ipython",
    "version": 3
   },
   "file_extension": ".py",
   "mimetype": "text/x-python",
   "name": "python",
   "nbconvert_exporter": "python",
   "pygments_lexer": "ipython3",
   "version": "3.10.15"
  }
 },
 "nbformat": 4,
 "nbformat_minor": 2
}
