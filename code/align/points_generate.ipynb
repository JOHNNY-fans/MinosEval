{
 "cells": [
  {
   "cell_type": "code",
   "execution_count": null,
   "metadata": {},
   "outputs": [],
   "source": [
    "import json\n",
    "from joblib import Parallel, delayed\n",
    "from tqdm_joblib import tqdm_joblib\n",
    "import time\n",
    "from tqdm.auto import tqdm\n",
    "import json"
   ]
  },
  {
   "cell_type": "code",
   "execution_count": 2,
   "metadata": {},
   "outputs": [],
   "source": [
    "from retrying import retry\n",
    "import openai\n",
    "\n",
    "@retry(stop_max_attempt_number=5, wait_exponential_multiplier=1000, wait_exponential_max=10000)\n",
    "def generate(prompt, history=[]):\n",
    "\n",
    "    client = openai.OpenAI(api_key=\"sk-xxx\", base_url=\"xxx\")\n",
    "    completion = client.chat.completions.create(\n",
    "        model=\"xxx\",\n",
    "        messages = [{\"role\": \"user\", \"content\": prompt}],\n",
    "        temperature = 0.\n",
    "    )\n",
    "    return completion.choices[0].message.content"
   ]
  },
  {
   "cell_type": "code",
   "execution_count": 3,
   "metadata": {},
   "outputs": [],
   "source": [
    "with open(\"../../data/align/Align_Minos.json\",\"r\",encoding='utf-8-sig') as f:\n",
    "    L = json.load(f)"
   ]
  },
  {
   "cell_type": "code",
   "execution_count": 4,
   "metadata": {},
   "outputs": [],
   "source": [
    "input_data = []\n",
    "for i in L:\n",
    "    tmp = {}\n",
    "    tmp['id'] = i['id']\n",
    "    tmp['question'] = i['question']\n",
    "    tmp['answer'] = i['answer']\n",
    "    tmp['label'] = i['label']\n",
    "    tmp['response'] = i['response']\n",
    "    tmp['rank'] = i['rank']\n",
    "    if tmp['label'] == 1:\n",
    "        input_data.append(tmp)"
   ]
  },
  {
   "cell_type": "code",
   "execution_count": null,
   "metadata": {},
   "outputs": [],
   "source": [
    "len(input_data)"
   ]
  },
  {
   "cell_type": "code",
   "execution_count": 6,
   "metadata": {},
   "outputs": [],
   "source": [
    "prompt = '''<任务>\n",
    "根据问题，从参考答案中提取出要点。每个要点应直接反映参考答案的具体内容。\n",
    "</任务>\n",
    "\n",
    "<格式要求>\n",
    "1.请你将分析得到的要点，仿照下面的格式添加到一个python列表中，尽可能使用简洁的语言。\n",
    "2.输出的python列表需要能够被json.loads()加载，示例如下：\n",
    "{\n",
    "    \"key_points\": [\"要点1\", \"要点2\", \"要点3\", ..., \"要点n\"]\n",
    "}\n",
    "</格式要求>\n",
    "\n",
    "<注意>\n",
    "1.分析得到的缺点，确保重点突出，但无需详细描述或解释，要保持简洁清晰。\n",
    "2.任何不符合格式的输出都会导致系统的崩溃！\n",
    "</注意>\n",
    "\n",
    "<示例>\n",
    "##输入\n",
    "问题：高音单簧管和高音萨克斯的调性相同吗？如果相同，请说出他们的调性，如果不同，请分别说出他们的调性\n",
    "参考答案：高音单簧管和高音萨克斯的调性不同。高音单簧管的调性通常为E♭，而高音萨克斯的调性则为B♭。\n",
    "##输出\n",
    "{\n",
    "    \"key_points\": [\"高音单簧管和高音萨克斯的调性不同\",\"高音单簧管的调性为E♭\",\"高音萨克斯的调性为B♭\"]\n",
    "}\n",
    "</示例>\n",
    "\n",
    "## 那么请你分析下面的回答，并输出符合格式的python列表\n",
    "问题：{question} \n",
    "参考答案：{answer} \n",
    "\n",
    "输出：\n",
    "'''"
   ]
  },
  {
   "cell_type": "code",
   "execution_count": 7,
   "metadata": {},
   "outputs": [],
   "source": [
    "import re\n",
    "\n",
    "def format_check(inputs, num=None):\n",
    "    if isinstance(inputs,dict) and set(['key_points']):\n",
    "        return True\n",
    "    else:\n",
    "        return False\n",
    "\n",
    "# 定义一个函数，接受一个 markdown 字符串作为参数\n",
    "def find_dicts(markdown):\n",
    "    # 定义一个空列表，用于存储找到的 dict\n",
    "    dicts = []\n",
    "    \n",
    "    if markdown == None:\n",
    "        return dicts\n",
    "\n",
    "    # 定义一个正则表达式，匹配 dict 的格式\n",
    "    pattern = r\"\\{[^{}]*\\}\"\n",
    "    # 使用 re.findall 方法，找出 markdown 字符串中所有匹配的子串\n",
    "    matches = re.findall(pattern, markdown)\n",
    "    # 遍历每个匹配的子串\n",
    "    for match in matches:\n",
    "        # 尝试将子串转换为 dict 类型，如果成功则添加到列表中\n",
    "        try:\n",
    "            d = eval(match)\n",
    "            if isinstance(d, dict):\n",
    "                dicts.append(d)\n",
    "        except:\n",
    "            # 如果转换失败，忽略该子串\n",
    "            pass\n",
    "    # 返回找到的 dict 列表\n",
    "    return dicts"
   ]
  },
  {
   "cell_type": "code",
   "execution_count": 8,
   "metadata": {},
   "outputs": [],
   "source": [
    "import traceback\n",
    "import os\n",
    "import json\n",
    "\n",
    "import traceback\n",
    "def deal(item,file_path):\n",
    "    max_try_retry = 5\n",
    "    try_num = 0\n",
    "    content = prompt.replace('{question}',item['question']).replace('{answer}',item['answer'])\n",
    "    for _ in range(max_try_retry):\n",
    "        try:\n",
    "            response = generate(content)\n",
    "            tmps = find_dicts(response)[0]\n",
    "            \n",
    "            if format_check(tmps):\n",
    "                item['points'] = tmps['key_points']\n",
    "                with open(file_path, \"a+\", encoding=\"utf8\") as f:\n",
    "                    f.write(json.dumps(item, ensure_ascii=False) + \"\\n\")\n",
    "                    f.flush()\n",
    "                break\n",
    "\n",
    "        except Exception as e:\n",
    "            str_e = str(e)\n",
    "            if try_num== max_try_retry:\n",
    "                break\n",
    "\n",
    "            if 'InvalidRequestError' in str_e:\n",
    "                if 'maximum context' in str_e:\n",
    "                    break\n",
    "                try_num += 1\n",
    "                continue\n",
    "            else:\n",
    "                traceback.print_exc()"
   ]
  },
  {
   "cell_type": "code",
   "execution_count": null,
   "metadata": {},
   "outputs": [],
   "source": [
    "file_path = \"../../data/align/fact/align_points.jsonl\"\n",
    "\n",
    "if not os.path.exists(file_path):\n",
    "    with open(file_path, 'w') as f:\n",
    "        pass\n",
    "\n",
    "with open(file_path,'r',encoding='utf-8') as f:\n",
    "    L = f.readlines()\n",
    "\n",
    "if len(L)>0:\n",
    "    finish_id = [json.loads(i)['id'] for i in L]\n",
    "else:\n",
    "    finish_id = []\n",
    "\n",
    "input_list = [i for i in input_data if i['id'] not in finish_id]\n",
    "\n",
    "from tqdm.contrib import tzip\n",
    "from joblib import Parallel, delayed\n",
    "from tqdm_joblib import tqdm_joblib\n",
    "\n",
    "num_worker = 32\n",
    "\n",
    "with tqdm_joblib(desc=\"My calculation\", total=len(input_list)) as progress_bar:\n",
    "    Parallel(n_jobs=num_worker,prefer=\"threads\")([delayed(deal)(x,file_path=file_path) for x in input_list])"
   ]
  },
  {
   "cell_type": "code",
   "execution_count": 10,
   "metadata": {},
   "outputs": [],
   "source": [
    "with open(file_path, \"r\", encoding=\"utf-8\") as f:\n",
    "    L = f.readlines()\n",
    "new_LL = [json.loads(i) for i in L]\n",
    "\n",
    "with open(\"../../data/align/fact/align_points.json\", \"w\", encoding=\"utf-8\") as f:\n",
    "    json.dump(new_LL, f, ensure_ascii=False, indent=4)"
   ]
  }
 ],
 "metadata": {
  "kernelspec": {
   "display_name": "lmeval",
   "language": "python",
   "name": "python3"
  },
  "language_info": {
   "codemirror_mode": {
    "name": "ipython",
    "version": 3
   },
   "file_extension": ".py",
   "mimetype": "text/x-python",
   "name": "python",
   "nbconvert_exporter": "python",
   "pygments_lexer": "ipython3",
   "version": "3.10.15"
  }
 },
 "nbformat": 4,
 "nbformat_minor": 2
}
