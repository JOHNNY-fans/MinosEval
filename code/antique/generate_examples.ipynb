{
 "cells": [
  {
   "cell_type": "code",
   "execution_count": 44,
   "metadata": {},
   "outputs": [],
   "source": [
    "import json\n",
    "from joblib import Parallel, delayed\n",
    "from tqdm_joblib import tqdm_joblib\n",
    "import time\n",
    "from tqdm.auto import tqdm"
   ]
  },
  {
   "cell_type": "code",
   "execution_count": 45,
   "metadata": {},
   "outputs": [],
   "source": [
    "from retrying import retry\n",
    "import openai\n",
    "\n",
    "@retry(stop_max_attempt_number=5, wait_exponential_multiplier=1000, wait_exponential_max=10000)\n",
    "def generate(prompt, history=[]):\n",
    "\n",
    "    client = openai.OpenAI(api_key=\"sk-xxx\", base_url=\"xxx\")\n",
    "    completion = client.chat.completions.create(\n",
    "        model=\"xxx\",\n",
    "        messages = [{\"role\": \"user\", \"content\": prompt}],\n",
    "        temperature = 0.\n",
    "    )\n",
    "    return completion.choices[0].message.content"
   ]
  },
  {
   "cell_type": "code",
   "execution_count": 46,
   "metadata": {},
   "outputs": [],
   "source": [
    "with open('../../data/antique/ANTIQUE_S5/sample1.json',\"r\",encoding='utf-8-sig') as f:\n",
    "    L = json.load(f)"
   ]
  },
  {
   "cell_type": "code",
   "execution_count": 47,
   "metadata": {},
   "outputs": [],
   "source": [
    "input_data = []\n",
    "for i in L:\n",
    "    tmp = {}\n",
    "    tmp['id'] = i['id']\n",
    "    tmp['question'] = i['question']\n",
    "    tmp['answer'] = i['answer']\n",
    "    tmp['response'] = i['response']\n",
    "    tmp['rank'] = i['rank']\n",
    "    input_data.append(tmp)"
   ]
  },
  {
   "cell_type": "code",
   "execution_count": 48,
   "metadata": {},
   "outputs": [],
   "source": [
    "prompt = '''Please consider the factual accuracy, logic, conciseness, and clarity of the answer based on the input open-ended question and reference answer. Additionally, combine your thoughts to generate five levels of answers: Excellent, Good, Fair, Poor, and Bad.\n",
    "\n",
    "Factual Accuracy: Analyze whether the information provided in the answer is correct and based on reliable facts and data.\n",
    "Logic: Analyze whether the answer is logically clear, with reasonable reasoning and consistent coherence.\n",
    "Conciseness: Analyze whether the answer is brief and to the point, avoiding unnecessary details and verbosity.\n",
    "Clarity: Analyze whether the answer is expressed clearly and understandably, and whether the language is simple and direct.\n",
    "\n",
    "Please output the results in the following JSON format:\n",
    "{\n",
    "    \"Excellent\": \"xxxx\",\n",
    "    \"Good\": \"xxxx\",\n",
    "    \"Fair\": \"xxxx\",\n",
    "    \"Poor\": \"xxxx\",\n",
    "    \"Bad\": \"xxxx\"\n",
    "}\n",
    "\n",
    "Question: {question}\n",
    "Reference Answer: {ref}\n",
    "\n",
    "Output Generated Answer:\n",
    "'''"
   ]
  },
  {
   "cell_type": "code",
   "execution_count": 49,
   "metadata": {},
   "outputs": [],
   "source": [
    "import re\n",
    "\n",
    "def format_check(input):\n",
    "    if isinstance(input,dict) and set(list(input)) == set(['Excellent','Good','Fair','Poor','Bad']):\n",
    "        return True\n",
    "    else:\n",
    "        return False\n",
    "\n",
    "# 定义一个函数，接受一个 markdown 字符串作为参数\n",
    "def find_dicts(markdown):\n",
    "    # 定义一个空列表，用于存储找到的 dict\n",
    "    dicts = []\n",
    "    \n",
    "    if markdown == None:\n",
    "        return dicts\n",
    "\n",
    "    # 定义一个正则表达式，匹配 dict 的格式\n",
    "    pattern = r\"\\{[^{}]*\\}\"\n",
    "    # 使用 re.findall 方法，找出 markdown 字符串中所有匹配的子串\n",
    "    matches = re.findall(pattern, markdown)\n",
    "    # 遍历每个匹配的子串\n",
    "    for match in matches:\n",
    "        # 尝试将子串转换为 dict 类型，如果成功则添加到列表中\n",
    "        try:\n",
    "            d = eval(match)\n",
    "            if isinstance(d, dict):\n",
    "                dicts.append(d)\n",
    "        except:\n",
    "            # 如果转换失败，忽略该子串\n",
    "            pass\n",
    "    # 返回找到的 dict 列表\n",
    "    return dicts"
   ]
  },
  {
   "cell_type": "code",
   "execution_count": 50,
   "metadata": {},
   "outputs": [],
   "source": [
    "import traceback\n",
    "import os\n",
    "import json\n",
    "\n",
    "import traceback\n",
    "def deal(item,file_path):\n",
    "    max_try_retry = 10\n",
    "    try_num = 0\n",
    "    content = prompt.replace('{question}',item['question']).replace('{ref}',item['answer'][0])\n",
    "    for _ in range(max_try_retry):\n",
    "        try:\n",
    "            response = generate(content)\n",
    "            try:\n",
    "                tmps = json.loads(response)\n",
    "                # print('yresss')\n",
    "            except:\n",
    "                tmps = find_dicts(response)[0]\n",
    "            \n",
    "            if format_check(tmps):\n",
    "                item['example'] = tmps\n",
    "                with open(file_path, \"a+\", encoding=\"utf8\") as f:\n",
    "                    f.write(json.dumps(item, ensure_ascii=False) + \"\\n\")\n",
    "                    f.flush()\n",
    "                break\n",
    "\n",
    "        except Exception as e:\n",
    "            str_e = str(e)\n",
    "            if try_num== max_try_retry:\n",
    "                break\n",
    "\n",
    "            if 'InvalidRequestError' in str_e:\n",
    "                if 'maximum context' in str_e:\n",
    "                    break\n",
    "                try_num += 1\n",
    "                continue\n",
    "            else:\n",
    "                traceback.print_exc()\n"
   ]
  },
  {
   "cell_type": "code",
   "execution_count": null,
   "metadata": {},
   "outputs": [],
   "source": [
    "file_path = \"../../data/antique/non_fact/examples.jsonl\"\n",
    "\n",
    "if not os.path.exists(file_path):\n",
    "    with open(file_path, 'w') as f:\n",
    "        pass\n",
    "\n",
    "with open(file_path,'r',encoding='utf-8') as f:\n",
    "    L = f.readlines()\n",
    "finish_id = [json.loads(i)['id'] for i in L]\n",
    "\n",
    "input_list = [i for i in input_data if i['id'] not in finish_id]\n",
    "\n",
    "from tqdm.contrib import tzip\n",
    "from joblib import Parallel, delayed\n",
    "from tqdm_joblib import tqdm_joblib\n",
    "\n",
    "num_worker = 32\n",
    "\n",
    "with tqdm_joblib(desc=\"My calculation\", total=len(input_list)) as progress_bar:\n",
    "    Parallel(n_jobs=num_worker,prefer=\"threads\")([delayed(deal)(x,file_path=file_path) for x in input_list])"
   ]
  }
 ],
 "metadata": {
  "kernelspec": {
   "display_name": "lmeval",
   "language": "python",
   "name": "python3"
  },
  "language_info": {
   "codemirror_mode": {
    "name": "ipython",
    "version": 3
   },
   "file_extension": ".py",
   "mimetype": "text/x-python",
   "name": "python",
   "nbconvert_exporter": "python",
   "pygments_lexer": "ipython3",
   "version": "3.10.15"
  }
 },
 "nbformat": 4,
 "nbformat_minor": 2
}
